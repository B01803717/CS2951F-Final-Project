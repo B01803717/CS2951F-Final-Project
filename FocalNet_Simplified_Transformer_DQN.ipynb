{
 "cells": [
  {
   "cell_type": "code",
   "execution_count": 1,
   "id": "655c144d",
   "metadata": {
    "_cell_guid": "b1076dfc-b9ad-4769-8c92-a6c4dae69d19",
    "_uuid": "8f2839f25d086af736a60e9eeb907d3b93b6e0e5",
    "execution": {
     "iopub.execute_input": "2024-05-02T04:23:35.145772Z",
     "iopub.status.busy": "2024-05-02T04:23:35.145148Z",
     "iopub.status.idle": "2024-05-02T04:24:05.559232Z",
     "shell.execute_reply": "2024-05-02T04:24:05.558047Z"
    },
    "papermill": {
     "duration": 30.424288,
     "end_time": "2024-05-02T04:24:05.561768",
     "exception": false,
     "start_time": "2024-05-02T04:23:35.137480",
     "status": "completed"
    },
    "tags": []
   },
   "outputs": [],
   "source": [
    "try:\n",
    "    if installed:\n",
    "        print('Installed')\n",
    "except:\n",
    "    !pip install -q gym[atari,accept-rom-license] ale-py\n",
    "    installed = True"
   ]
  },
  {
   "cell_type": "code",
   "execution_count": 2,
   "id": "91800176",
   "metadata": {
    "execution": {
     "iopub.execute_input": "2024-05-02T04:24:05.575846Z",
     "iopub.status.busy": "2024-05-02T04:24:05.575544Z",
     "iopub.status.idle": "2024-05-02T04:24:11.456633Z",
     "shell.execute_reply": "2024-05-02T04:24:11.455851Z"
    },
    "papermill": {
     "duration": 5.890719,
     "end_time": "2024-05-02T04:24:11.458921",
     "exception": false,
     "start_time": "2024-05-02T04:24:05.568202",
     "status": "completed"
    },
    "tags": []
   },
   "outputs": [],
   "source": [
    "import cv2\n",
    "import copy\n",
    "import random\n",
    "import gc\n",
    "import gym\n",
    "import sys\n",
    "import numpy as np\n",
    "import torch\n",
    "import ipywidgets as widgets\n",
    "import torch.nn.functional as F\n",
    "import torch.nn as nn\n",
    "import torch.optim as optim\n",
    "import matplotlib.pyplot as plt\n",
    "\n",
    "from gym import spaces\n",
    "from tqdm import tqdm\n",
    "from collections import deque\n",
    "from IPython import display\n",
    "from IPython.display import clear_output\n",
    "from matplotlib import animation\n",
    "\n",
    "sys.path.append('/kaggle/input/simplified-transformer-dir/')\n",
    "from simplified_transformer_model import myGPT2Block\n",
    "\n",
    "cv2.ocl.setUseOpenCL(False)\n",
    "device = 'cuda' if torch.cuda.is_available() else 'cpu'"
   ]
  },
  {
   "cell_type": "code",
   "execution_count": 3,
   "id": "3306b776",
   "metadata": {
    "execution": {
     "iopub.execute_input": "2024-05-02T04:24:11.472871Z",
     "iopub.status.busy": "2024-05-02T04:24:11.472069Z",
     "iopub.status.idle": "2024-05-02T04:24:13.541212Z",
     "shell.execute_reply": "2024-05-02T04:24:13.540302Z"
    },
    "papermill": {
     "duration": 2.078579,
     "end_time": "2024-05-02T04:24:13.543751",
     "exception": false,
     "start_time": "2024-05-02T04:24:11.465172",
     "status": "completed"
    },
    "tags": []
   },
   "outputs": [
    {
     "name": "stderr",
     "output_type": "stream",
     "text": [
      "/kaggle/input/focal-unet/focalUnet.py:771: UserWarning: Overwriting focalnet_tiny_srf in registry with focalUnet.focalnet_tiny_srf. This is because the name being registered conflicts with an existing name. Please check if this is not expected.\n",
      "  def focalnet_tiny_srf(pretrained=False, **kwargs):\n",
      "/kaggle/input/focal-unet/focalUnet.py:780: UserWarning: Overwriting focalnet_small_srf in registry with focalUnet.focalnet_small_srf. This is because the name being registered conflicts with an existing name. Please check if this is not expected.\n",
      "  def focalnet_small_srf(pretrained=False, **kwargs):\n",
      "/kaggle/input/focal-unet/focalUnet.py:789: UserWarning: Overwriting focalnet_base_srf in registry with focalUnet.focalnet_base_srf. This is because the name being registered conflicts with an existing name. Please check if this is not expected.\n",
      "  def focalnet_base_srf(pretrained=False, **kwargs):\n",
      "/kaggle/input/focal-unet/focalUnet.py:798: UserWarning: Overwriting focalnet_tiny_lrf in registry with focalUnet.focalnet_tiny_lrf. This is because the name being registered conflicts with an existing name. Please check if this is not expected.\n",
      "  def focalnet_tiny_lrf(pretrained=False, **kwargs):\n",
      "/kaggle/input/focal-unet/focalUnet.py:809: UserWarning: Overwriting focalnet_small_lrf in registry with focalUnet.focalnet_small_lrf. This is because the name being registered conflicts with an existing name. Please check if this is not expected.\n",
      "  def focalnet_small_lrf(pretrained=False, **kwargs):\n",
      "/kaggle/input/focal-unet/focalUnet.py:818: UserWarning: Overwriting focalnet_base_lrf in registry with focalUnet.focalnet_base_lrf. This is because the name being registered conflicts with an existing name. Please check if this is not expected.\n",
      "  def focalnet_base_lrf(pretrained=False, **kwargs):\n",
      "/kaggle/input/focal-unet/focalUnet.py:855: UserWarning: Overwriting focalnet_large_fl3 in registry with focalUnet.focalnet_large_fl3. This is because the name being registered conflicts with an existing name. Please check if this is not expected.\n",
      "  def focalnet_large_fl3(pretrained=False, **kwargs):\n",
      "/kaggle/input/focal-unet/focalUnet.py:864: UserWarning: Overwriting focalnet_large_fl4 in registry with focalUnet.focalnet_large_fl4. This is because the name being registered conflicts with an existing name. Please check if this is not expected.\n",
      "  def focalnet_large_fl4(pretrained=False, **kwargs):\n",
      "/kaggle/input/focal-unet/focalUnet.py:873: UserWarning: Overwriting focalnet_xlarge_fl3 in registry with focalUnet.focalnet_xlarge_fl3. This is because the name being registered conflicts with an existing name. Please check if this is not expected.\n",
      "  def focalnet_xlarge_fl3(pretrained=False, **kwargs):\n",
      "/kaggle/input/focal-unet/focalUnet.py:883: UserWarning: Overwriting focalnet_xlarge_fl4 in registry with focalUnet.focalnet_xlarge_fl4. This is because the name being registered conflicts with an existing name. Please check if this is not expected.\n",
      "  def focalnet_xlarge_fl4(pretrained=False, **kwargs):\n",
      "/kaggle/input/focal-unet/focalUnet.py:892: UserWarning: Overwriting focalnet_huge_fl3 in registry with focalUnet.focalnet_huge_fl3. This is because the name being registered conflicts with an existing name. Please check if this is not expected.\n",
      "  def focalnet_huge_fl3(pretrained=False, **kwargs):\n",
      "/kaggle/input/focal-unet/focalUnet.py:901: UserWarning: Overwriting focalnet_huge_fl4 in registry with focalUnet.focalnet_huge_fl4. This is because the name being registered conflicts with an existing name. Please check if this is not expected.\n",
      "  def focalnet_huge_fl4(pretrained=False, **kwargs):\n"
     ]
    }
   ],
   "source": [
    "import sys\n",
    "import timm\n",
    "from timm.models.layers import DropPath, to_2tuple, trunc_normal_\n",
    "sys.path.append('/kaggle/input/focal-unet/')\n",
    "import focalUnet\n",
    "from focalUnet import FocalNetBlock, FocalModulation, PatchEmbed, Final_PatchExpand"
   ]
  },
  {
   "cell_type": "code",
   "execution_count": 4,
   "id": "a2fbbaed",
   "metadata": {
    "execution": {
     "iopub.execute_input": "2024-05-02T04:24:13.557758Z",
     "iopub.status.busy": "2024-05-02T04:24:13.557474Z",
     "iopub.status.idle": "2024-05-02T04:24:13.564039Z",
     "shell.execute_reply": "2024-05-02T04:24:13.563235Z"
    },
    "papermill": {
     "duration": 0.015707,
     "end_time": "2024-05-02T04:24:13.565967",
     "exception": false,
     "start_time": "2024-05-02T04:24:13.550260",
     "status": "completed"
    },
    "tags": []
   },
   "outputs": [],
   "source": [
    "class Replay_Buffer:\n",
    "    def __init__(self, capacity):\n",
    "        self.buffer = deque(maxlen=capacity)\n",
    "    \n",
    "    def store(self, state, action, new_state, reward, done):\n",
    "        state = np.expand_dims(state, 0)\n",
    "        new_state = np.expand_dims(new_state, 0)\n",
    "        \n",
    "        self.buffer.append([state, action, new_state, reward, done])\n",
    "    \n",
    "    def replay(self, batch_size):\n",
    "        state, action, new_state, reward, done = zip(\n",
    "            *random.sample(self.buffer, batch_size)\n",
    "        )\n",
    "        \n",
    "        return np.concatenate(state), action, np.concatenate(new_state), reward, done\n",
    "    \n",
    "    def __len__(self):\n",
    "        return len(self.buffer)"
   ]
  },
  {
   "cell_type": "code",
   "execution_count": 5,
   "id": "2edf0c86",
   "metadata": {
    "execution": {
     "iopub.execute_input": "2024-05-02T04:24:13.579215Z",
     "iopub.status.busy": "2024-05-02T04:24:13.578955Z",
     "iopub.status.idle": "2024-05-02T04:24:16.164390Z",
     "shell.execute_reply": "2024-05-02T04:24:16.163483Z"
    },
    "papermill": {
     "duration": 2.594349,
     "end_time": "2024-05-02T04:24:16.166432",
     "exception": false,
     "start_time": "2024-05-02T04:24:13.572083",
     "status": "completed"
    },
    "tags": []
   },
   "outputs": [
    {
     "data": {
      "text/plain": [
       "[<matplotlib.lines.Line2D at 0x79dd0c323550>]"
      ]
     },
     "execution_count": 5,
     "metadata": {},
     "output_type": "execute_result"
    },
    {
     "data": {
      "image/png": "[encoded data removed]",
      "text/plain": [
       "<Figure size 640x480 with 1 Axes>"
      ]
     },
     "metadata": {},
     "output_type": "display_data"
    }
   ],
   "source": [
    "epsilon_S = 1.0\n",
    "epsilon_E = 0.01\n",
    "epsilon_decay = 30000\n",
    "\n",
    "_epsilon = lambda frame: epsilon_E + (epsilon_S - epsilon_E)*np.exp(-frame/epsilon_decay)\n",
    "plt.plot([_epsilon(frame) for frame in range(1000000)])"
   ]
  },
  {
   "cell_type": "code",
   "execution_count": 6,
   "id": "d492ba07",
   "metadata": {
    "execution": {
     "iopub.execute_input": "2024-05-02T04:24:16.182374Z",
     "iopub.status.busy": "2024-05-02T04:24:16.182020Z",
     "iopub.status.idle": "2024-05-02T04:24:16.222166Z",
     "shell.execute_reply": "2024-05-02T04:24:16.221350Z"
    },
    "papermill": {
     "duration": 0.050756,
     "end_time": "2024-05-02T04:24:16.224124",
     "exception": false,
     "start_time": "2024-05-02T04:24:16.173368",
     "status": "completed"
    },
    "tags": []
   },
   "outputs": [],
   "source": [
    "class NoopResetEnv(gym.Wrapper):\n",
    "    def __init__(self, env, noop_max=30):\n",
    "        \"\"\"Sample initial states by taking random number of no-ops on reset.\n",
    "        No-op is assumed to be action 0.\n",
    "        \"\"\"\n",
    "        gym.Wrapper.__init__(self, env)\n",
    "        self.noop_max = noop_max\n",
    "        self.override_num_noops = None\n",
    "        self.noop_action = 0\n",
    "        assert env.unwrapped.get_action_meanings()[0] == 'NOOP'\n",
    "\n",
    "    def reset(self, **kwargs):\n",
    "        \"\"\" Do no-op action for a number of steps in [1, noop_max].\"\"\"\n",
    "        self.env.reset(**kwargs)\n",
    "        if self.override_num_noops is not None:\n",
    "            noops = self.override_num_noops\n",
    "        else:\n",
    "            noops = self.unwrapped.np_random.integers(1, self.noop_max + 1) #pylint: disable=E1101\n",
    "        assert noops > 0\n",
    "        obs = None\n",
    "        for _ in range(noops):\n",
    "            obs, _, done, _, info = self.env.step(self.noop_action)\n",
    "            if done:\n",
    "                obs = self.env.reset(**kwargs)\n",
    "        return obs, info\n",
    "\n",
    "    def step(self, ac):\n",
    "        return self.env.step(ac)\n",
    "\n",
    "class FireResetEnv(gym.Wrapper):\n",
    "    def __init__(self, env):\n",
    "        \"\"\"Take action on reset for environments that are fixed until firing.\"\"\"\n",
    "        gym.Wrapper.__init__(self, env)\n",
    "        assert env.unwrapped.get_action_meanings()[1] == 'FIRE'\n",
    "        assert len(env.unwrapped.get_action_meanings()) >= 3\n",
    "\n",
    "    def reset(self, **kwargs):\n",
    "        self.env.reset(**kwargs)\n",
    "        obs, _, done, _, info = self.env.step(1)\n",
    "        if done:\n",
    "            self.env.reset(**kwargs)\n",
    "        obs, _, done, _, info = self.env.step(2)\n",
    "        if done:\n",
    "            self.env.reset(**kwargs)\n",
    "        return obs, info\n",
    "\n",
    "    def step(self, ac):\n",
    "        return self.env.step(ac)\n",
    "\n",
    "class EpisodicLifeEnv(gym.Wrapper):\n",
    "    def __init__(self, env):\n",
    "        \"\"\"Make end-of-life == end-of-episode, but only reset on true game over.\n",
    "        Done by DeepMind for the DQN and co. since it helps value estimation.\n",
    "        \"\"\"\n",
    "        gym.Wrapper.__init__(self, env)\n",
    "        self.lives = 0\n",
    "        self.was_real_done  = True\n",
    "\n",
    "    def step(self, action):\n",
    "        obs, reward, done, truncated, info = self.env.step(action)\n",
    "        self.was_real_done = done\n",
    "        # check current lives, make loss of life terminal,\n",
    "        # then update lives to handle bonus lives\n",
    "        lives = self.env.unwrapped.ale.lives()\n",
    "        if lives < self.lives and lives > 0:\n",
    "            # for Qbert sometimes we stay in lives == 0 condtion for a few frames\n",
    "            # so its important to keep lives > 0, so that we only reset once\n",
    "            # the environment advertises done.\n",
    "            done = True\n",
    "        self.lives = lives\n",
    "        return obs, reward, done, truncated, info\n",
    "\n",
    "    def reset(self, **kwargs):\n",
    "        \"\"\"Reset only when lives are exhausted.\n",
    "        This way all states are still reachable even though lives are episodic,\n",
    "        and the learner need not know about any of this behind-the-scenes.\n",
    "        \"\"\"\n",
    "        if self.was_real_done:\n",
    "            obs, info = self.env.reset(**kwargs)\n",
    "        else:\n",
    "            # no-op step to advance from terminal/lost life state\n",
    "            obs, _, _, _, info = self.env.step(0)\n",
    "        self.lives = self.env.unwrapped.ale.lives()\n",
    "        return obs, info\n",
    "\n",
    "class MaxAndSkipEnv(gym.Wrapper):\n",
    "    def __init__(self, env, skip=4):\n",
    "        \"\"\"Return only every `skip`-th frame\"\"\"\n",
    "        gym.Wrapper.__init__(self, env)\n",
    "        # most recent raw observations (for max pooling across time steps)\n",
    "        self._obs_buffer = np.zeros((2,)+env.observation_space.shape, dtype=np.uint8)\n",
    "        self._skip       = skip\n",
    "\n",
    "    def reset(self):\n",
    "        return self.env.reset()\n",
    "\n",
    "    def step(self, action):\n",
    "        \"\"\"Repeat action, sum reward, and max over last observations.\"\"\"\n",
    "        total_reward = 0.0\n",
    "        done = None\n",
    "        for i in range(self._skip):\n",
    "            obs, reward, done, truncated, info = self.env.step(action)\n",
    "            if i == self._skip - 2: self._obs_buffer[0] = obs\n",
    "            if i == self._skip - 1: self._obs_buffer[1] = obs\n",
    "            total_reward += reward\n",
    "            if done:\n",
    "                break\n",
    "        # Note that the observation on the done=True frame\n",
    "        # doesn't matter\n",
    "        max_frame = self._obs_buffer.max(axis=0)\n",
    "\n",
    "        return max_frame, total_reward, done, truncated, info\n",
    "\n",
    "    def reset(self, **kwargs):\n",
    "        return self.env.reset(**kwargs)\n",
    "\n",
    "class ClipRewardEnv(gym.RewardWrapper):\n",
    "    def __init__(self, env):\n",
    "        gym.RewardWrapper.__init__(self, env)\n",
    "\n",
    "    def reward(self, reward):\n",
    "        \"\"\"Bin reward to {+1, 0, -1} by its sign.\"\"\"\n",
    "        return np.sign(reward)\n",
    "\n",
    "class WarpFrame(gym.ObservationWrapper):\n",
    "    def __init__(self, env):\n",
    "        \"\"\"Warp frames to 84x84 as done in the Nature paper and later work.\"\"\"\n",
    "        gym.ObservationWrapper.__init__(self, env)\n",
    "        self.width = 84\n",
    "        self.height = 84\n",
    "        self.observation_space = spaces.Box(low=0, high=255,\n",
    "            shape=(self.height, self.width, 1), dtype=np.uint8)\n",
    "\n",
    "    def observation(self, frame):\n",
    "        frame = cv2.cvtColor(frame, cv2.COLOR_RGB2GRAY)\n",
    "        frame = cv2.resize(frame, (self.width, self.height), interpolation=cv2.INTER_AREA)\n",
    "        return frame[:, :, None]\n",
    "\n",
    "class FrameStack(gym.Wrapper):\n",
    "    def __init__(self, env, k):\n",
    "        \"\"\"Stack k last frames.\n",
    "        Returns lazy array, which is much more memory efficient.\n",
    "        See Also\n",
    "        --------\n",
    "        baselines.common.atari_wrappers.LazyFrames\n",
    "        \"\"\"\n",
    "        gym.Wrapper.__init__(self, env)\n",
    "        self.k = k\n",
    "        self.frames = deque([], maxlen=k)\n",
    "        shp = env.observation_space.shape\n",
    "        self.observation_space = spaces.Box(low=0, high=255, shape=(shp[0], shp[1], shp[2] * k), dtype=np.uint8)\n",
    "\n",
    "    def reset(self):\n",
    "        ob, info = self.env.reset()\n",
    "        for _ in range(self.k):\n",
    "            self.frames.append(ob)\n",
    "        return self._get_ob(), info\n",
    "\n",
    "    def step(self, action):\n",
    "        ob, reward, done, info = self.env.step(action)\n",
    "        self.frames.append(ob)\n",
    "        return self._get_ob(), reward, done, info\n",
    "\n",
    "    def _get_ob(self):\n",
    "        assert len(self.frames) == self.k\n",
    "        return LazyFrames(list(self.frames))\n",
    "\n",
    "class ScaledFloatFrame(gym.ObservationWrapper):\n",
    "    def __init__(self, env):\n",
    "        gym.ObservationWrapper.__init__(self, env)\n",
    "\n",
    "    def observation(self, observation):\n",
    "        # careful! This undoes the memory optimization, use\n",
    "        # with smaller replay buffers only.\n",
    "        return np.array(observation).astype(np.float32) / 255.0\n",
    "\n",
    "class LazyFrames(object):\n",
    "    def __init__(self, frames):\n",
    "        \"\"\"This object ensures that common frames between the observations are only stored once.\n",
    "        It exists purely to optimize memory usage which can be huge for DQN's 1M frames replay\n",
    "        buffers.\n",
    "        This object should only be converted to numpy array before being passed to the model.\n",
    "        You'd not believe how complex the previous solution was.\"\"\"\n",
    "        self._frames = frames\n",
    "        self._out = None\n",
    "\n",
    "    def _force(self):\n",
    "        if self._out is None:\n",
    "            self._out = np.concatenate(self._frames, axis=2)\n",
    "            self._frames = None\n",
    "        return self._out\n",
    "\n",
    "    def __array__(self, dtype=None):\n",
    "        out = self._force()\n",
    "        if dtype is not None:\n",
    "            out = out.astype(dtype)\n",
    "        return out\n",
    "\n",
    "    def __len__(self):\n",
    "        return len(self._force())\n",
    "\n",
    "    def __getitem__(self, i):\n",
    "        return self._force()[i]\n",
    "\n",
    "def make_atari(env_id, render_mode=None):\n",
    "    env = gym.make(env_id, render_mode = render_mode)\n",
    "    assert 'NoFrameskip' in env.spec.id\n",
    "    env = NoopResetEnv(env, noop_max=30)\n",
    "    env = MaxAndSkipEnv(env, skip=4)\n",
    "    return env\n",
    "\n",
    "def wrap_deepmind(env, episode_life=True, clip_rewards=True, frame_stack=False, scale=False):\n",
    "    \"\"\"Configure environment for DeepMind-style Atari.\n",
    "    \"\"\"\n",
    "    if episode_life:\n",
    "        env = EpisodicLifeEnv(env)\n",
    "    if 'FIRE' in env.unwrapped.get_action_meanings():\n",
    "        env = FireResetEnv(env)\n",
    "    env = WarpFrame(env)\n",
    "    if scale:\n",
    "        env = ScaledFloatFrame(env)\n",
    "    if clip_rewards:\n",
    "        env = ClipRewardEnv(env)\n",
    "    if frame_stack:\n",
    "        env = FrameStack(env, 4)\n",
    "    return env\n",
    "\n",
    "\n",
    "\n",
    "class ImageToPyTorch(gym.ObservationWrapper):\n",
    "    \"\"\"\n",
    "    Image shape to num_channels x weight x height\n",
    "    \"\"\"\n",
    "    def __init__(self, env):\n",
    "        super(ImageToPyTorch, self).__init__(env)\n",
    "        old_shape = self.observation_space.shape\n",
    "        self.observation_space = gym.spaces.Box(low=0.0, high=1.0, shape=(old_shape[-1], old_shape[0], old_shape[1]), dtype=np.uint8)\n",
    "\n",
    "    def observation(self, observation):\n",
    "        return np.swapaxes(observation, 2, 0)\n",
    "    \n",
    "\n",
    "def wrap_pytorch(env):\n",
    "    return ImageToPyTorch(env)"
   ]
  },
  {
   "cell_type": "code",
   "execution_count": 7,
   "id": "6432bc51",
   "metadata": {
    "execution": {
     "iopub.execute_input": "2024-05-02T04:24:16.238410Z",
     "iopub.status.busy": "2024-05-02T04:24:16.238129Z",
     "iopub.status.idle": "2024-05-02T04:24:16.472395Z",
     "shell.execute_reply": "2024-05-02T04:24:16.471511Z"
    },
    "papermill": {
     "duration": 0.24375,
     "end_time": "2024-05-02T04:24:16.474392",
     "exception": false,
     "start_time": "2024-05-02T04:24:16.230642",
     "status": "completed"
    },
    "tags": []
   },
   "outputs": [
    {
     "name": "stderr",
     "output_type": "stream",
     "text": [
      "A.L.E: Arcade Learning Environment (version 0.8.1+53f58b7)\n",
      "[Powered by Stella]\n"
     ]
    }
   ],
   "source": [
    "env_id = \"PongNoFrameskip-v4\"\n",
    "env    = make_atari(env_id, render_mode='rgb_array')\n",
    "env    = wrap_deepmind(env)\n",
    "env    = wrap_pytorch(env)"
   ]
  },
  {
   "cell_type": "code",
   "execution_count": 8,
   "id": "c28ec7f0",
   "metadata": {
    "execution": {
     "iopub.execute_input": "2024-05-02T04:24:16.489816Z",
     "iopub.status.busy": "2024-05-02T04:24:16.489549Z",
     "iopub.status.idle": "2024-05-02T04:24:16.497156Z",
     "shell.execute_reply": "2024-05-02T04:24:16.496345Z"
    },
    "papermill": {
     "duration": 0.01792,
     "end_time": "2024-05-02T04:24:16.499096",
     "exception": false,
     "start_time": "2024-05-02T04:24:16.481176",
     "status": "completed"
    },
    "tags": []
   },
   "outputs": [],
   "source": [
    "def compute_td_loss(batch_size, device):\n",
    "    state, action, reward, next_state, done = replay_buffer.replay(batch_size)\n",
    "    state      = torch.tensor(state).to(device)\n",
    "    next_state = torch.tensor(np.array(next_state), requires_grad=False).to(device)\n",
    "    action     = torch.LongTensor(action).to(device)\n",
    "    reward     = torch.FloatTensor(reward).to(device)\n",
    "    done       = torch.FloatTensor(done).to(device)\n",
    "    action_shape = action.shape[0]\n",
    "    \n",
    "    q_values      = model(state)\n",
    "    next_q_values = model(next_state)\n",
    "    q_value = q_values.gather(1, action.unsqueeze(1)).squeeze(1)\n",
    "    next_q_value     = next_q_values.max(1)[0]\n",
    "    expected_q_value = reward + gamma * next_q_value * (1 - done)\n",
    "    \n",
    "    loss = (q_value - expected_q_value.data).pow(2).mean()\n",
    "        \n",
    "    optimizer.zero_grad()\n",
    "    loss.backward()\n",
    "    optimizer.step()\n",
    "    \n",
    "    return loss.item()"
   ]
  },
  {
   "cell_type": "code",
   "execution_count": 9,
   "id": "7e7e6f70",
   "metadata": {
    "execution": {
     "iopub.execute_input": "2024-05-02T04:24:16.513184Z",
     "iopub.status.busy": "2024-05-02T04:24:16.512926Z",
     "iopub.status.idle": "2024-05-02T04:24:16.521915Z",
     "shell.execute_reply": "2024-05-02T04:24:16.521113Z"
    },
    "papermill": {
     "duration": 0.018123,
     "end_time": "2024-05-02T04:24:16.523798",
     "exception": false,
     "start_time": "2024-05-02T04:24:16.505675",
     "status": "completed"
    },
    "tags": []
   },
   "outputs": [],
   "source": [
    "class SASPConfig:\n",
    "    def __init__(self, hidden_size, num_attention_heads, n_inner, n_layer, max_position_embeddings):\n",
    "        self.hidden_size = hidden_size\n",
    "        self.num_attention_heads = num_attention_heads\n",
    "        self.n_inner = n_inner\n",
    "        self.n_layer = n_layer\n",
    "        self.max_position_embeddings = max_position_embeddings\n",
    "        \n",
    "        self.parallel_layers = True\n",
    "        self.norm_type = \"ln\"\n",
    "        self.norm_position = \"pre\"\n",
    "        \n",
    "        self.attn_block_resid_gain = 1.0\n",
    "        self.attn_block_skip_gain = 0.0\n",
    "        self.mlp_block_resid_gain = 1.0\n",
    "        self.mlp_block_skip_gain = 0.0\n",
    "        \n",
    "        self.value_resid_gain = 0.0\n",
    "        self.proj_resid_gain = 0.0\n",
    "        self.first_layer_value_resid_gain = None\n",
    "        \n",
    "        # Add the missing attribute\n",
    "        self.value_skip_gain = 1.0\n",
    "        self.proj_skip_gain = 1.0\n",
    "        self.val_init_type = \"id\"\n",
    "        self.proj_init_type = \"id\"\n",
    "        \n",
    "        self.centre_attn = True\n",
    "        self.attn_mat_resid_gain = 1.0\n",
    "        self.attn_mat_skip_gain = 1.0\n",
    "        self.centre_attn_gain = 1.0\n",
    "        \n",
    "        self.query_init_std = 0.0\n",
    "        self.key_init_std = None\n",
    "        self.val_proj_init_std = None\n",
    "        self.mlp_proj_init_std = None\n",
    "        self.last_layer_proj_resid_gain = None\n",
    "        \n",
    "        self.activation_function = \"gelu\"\n",
    "        self.resid_pdrop = 0.0\n",
    "        self.attn_pdrop = 0.0\n",
    "        self.layer_norm_epsilon = 1e-5\n",
    "        \n",
    "        self.scale_attn_weights = True\n",
    "        self.scale_attn_by_inverse_layer_idx = False\n",
    "        \n",
    "        self.trainable_attn_block_gains = False\n",
    "        self.trainable_mlp_block_gains = False\n",
    "        self.trainable_value_gains = False\n",
    "        self.trainable_proj_gains = False\n",
    "        self.trainable_attn_mat_gains = True"
   ]
  },
  {
   "cell_type": "code",
   "execution_count": 10,
   "id": "2e3d9104",
   "metadata": {
    "execution": {
     "iopub.execute_input": "2024-05-02T04:24:16.538045Z",
     "iopub.status.busy": "2024-05-02T04:24:16.537800Z",
     "iopub.status.idle": "2024-05-02T04:24:16.542015Z",
     "shell.execute_reply": "2024-05-02T04:24:16.541153Z"
    },
    "papermill": {
     "duration": 0.013464,
     "end_time": "2024-05-02T04:24:16.543817",
     "exception": false,
     "start_time": "2024-05-02T04:24:16.530353",
     "status": "completed"
    },
    "tags": []
   },
   "outputs": [],
   "source": [
    "def img_by_obs(obs, state_dim):\n",
    "    \"\"\"\n",
    "    Unwraps obs by channels.\n",
    "    observation is of shape [c, h=w, w=h]\n",
    "    \"\"\"\n",
    "    return obs.reshape([-1, state_dim[2]])\n"
   ]
  },
  {
   "cell_type": "code",
   "execution_count": 11,
   "id": "81357ff8",
   "metadata": {
    "execution": {
     "iopub.execute_input": "2024-05-02T04:24:16.558336Z",
     "iopub.status.busy": "2024-05-02T04:24:16.558049Z",
     "iopub.status.idle": "2024-05-02T04:24:16.574228Z",
     "shell.execute_reply": "2024-05-02T04:24:16.573316Z"
    },
    "papermill": {
     "duration": 0.025601,
     "end_time": "2024-05-02T04:24:16.576107",
     "exception": false,
     "start_time": "2024-05-02T04:24:16.550506",
     "status": "completed"
    },
    "tags": []
   },
   "outputs": [],
   "source": [
    "class CnnDQN(nn.Module):\n",
    "    def __init__(self, input_shape, num_actions):\n",
    "        super(CnnDQN, self).__init__()\n",
    "        \n",
    "        self.input_shape = input_shape\n",
    "        self.num_actions = num_actions\n",
    "        \n",
    "        self.features = nn.Sequential(\n",
    "            nn.Conv2d(input_shape[0], 32, kernel_size=8, stride=4),\n",
    "            nn.ReLU(),\n",
    "            nn.Conv2d(32, 64, kernel_size=4, stride=2),\n",
    "            nn.ReLU(),\n",
    "            nn.Conv2d(64, 64, kernel_size=3, stride=1),\n",
    "            nn.ReLU()\n",
    "        )\n",
    "        \n",
    "        self.fc = nn.Sequential(\n",
    "            nn.Linear(self.feature_size(), 512),\n",
    "            nn.ReLU(),\n",
    "            nn.Linear(512, self.num_actions)\n",
    "        )\n",
    "\n",
    "        # Initialize the FocalNetBlock\n",
    "        self.focal_block = FocalNetBlock(\n",
    "            dim=64, input_resolution=(input_shape[1]//8, input_shape[2]//8), # Assumed from stride and kernel sizes\n",
    "            mlp_ratio=4.0, drop=0.1, focal_level=1, focal_window=3)\n",
    "        self.focal_block.B = 1\n",
    "        \n",
    "        # split image into patches using either non-overlapped embedding or overlapped embedding\n",
    "        self.patch_embed = PatchEmbed(\n",
    "            img_size=to_2tuple(input_shape[1] // 8), \n",
    "            patch_size=1, \n",
    "            in_chans=64, \n",
    "            embed_dim=64, \n",
    "            use_conv_embed=False, \n",
    "            norm_layer=nn.LayerNorm, \n",
    "            is_stem=True)\n",
    "\n",
    "        self.patch_expand = Final_PatchExpand(\n",
    "            img_size=(7, 7),\n",
    "            patch_size=1,\n",
    "            in_chans=64,\n",
    "            embed_dim=64,\n",
    "            use_conv_embed=False,\n",
    "            norm_layer=nn.LayerNorm,\n",
    "            is_stem=True)\n",
    "        \n",
    "        sasp_config = SASPConfig(\n",
    "            hidden_size=self.feature_size(),\n",
    "            num_attention_heads=1,\n",
    "            n_inner=256,\n",
    "            n_layer=1,\n",
    "            max_position_embeddings=1\n",
    "        )\n",
    "        \n",
    "        # Create the SAS-P block\n",
    "        self.transformer = myGPT2Block(sasp_config)\n",
    "\n",
    "        \n",
    "    def forward(self, x):\n",
    "        x = x.float()\n",
    "        x = self.features(x)\n",
    "        \n",
    "        x = self.patch_embed(x)\n",
    "        x, H, W = x\n",
    "        self.focal_block.H, self.focal_block.W = H, W\n",
    "        x = self.focal_block(x)\n",
    "        x = self.patch_expand(x)\n",
    "        # B, L, C -> probably needs embedding\n",
    "        x, H, W = x\n",
    "        \n",
    "        x = x.reshape(x.size(0), -1)\n",
    "        x = x.unsqueeze(1)\n",
    "        x = self.transformer(x)[0]\n",
    "        x = x.squeeze(1)\n",
    "        x = self.fc(x)\n",
    "        return x\n",
    "    \n",
    "    def feature_size(self):\n",
    "        return self.features(torch.autograd.Variable(torch.zeros(1, *self.input_shape))).view(1, -1).size(1)\n",
    "    \n",
    "    def act(self, state, epsilon):\n",
    "        with torch.no_grad():\n",
    "            if random.random() > epsilon:\n",
    "                state   = torch.FloatTensor(state).unsqueeze(0)\n",
    "                state = state.to(device)\n",
    "                q_value = self.forward(state)\n",
    "                action  = q_value.max(1)[1].item()\n",
    "            else:\n",
    "                action = random.randrange(env.action_space.n)\n",
    "        return action"
   ]
  },
  {
   "cell_type": "code",
   "execution_count": 12,
   "id": "74751ce9",
   "metadata": {
    "execution": {
     "iopub.execute_input": "2024-05-02T04:24:16.591026Z",
     "iopub.status.busy": "2024-05-02T04:24:16.590749Z",
     "iopub.status.idle": "2024-05-02T04:24:17.544316Z",
     "shell.execute_reply": "2024-05-02T04:24:17.543121Z"
    },
    "papermill": {
     "duration": 0.963163,
     "end_time": "2024-05-02T04:24:17.546698",
     "exception": false,
     "start_time": "2024-05-02T04:24:16.583535",
     "status": "completed"
    },
    "tags": []
   },
   "outputs": [],
   "source": [
    "model = CnnDQN(env.observation_space.shape, env.action_space.n)\n",
    "\n",
    "model = model.cuda()\n",
    "    \n",
    "optimizer = optim.Adam(model.parameters(), lr=0.00001)\n",
    "\n",
    "replay_initial = 10000\n",
    "replay_buffer = Replay_Buffer(50000)"
   ]
  },
  {
   "cell_type": "code",
   "execution_count": 13,
   "id": "2b46a179",
   "metadata": {
    "execution": {
     "iopub.execute_input": "2024-05-02T04:24:17.561641Z",
     "iopub.status.busy": "2024-05-02T04:24:17.561340Z",
     "iopub.status.idle": "2024-05-02T04:24:17.567477Z",
     "shell.execute_reply": "2024-05-02T04:24:17.566653Z"
    },
    "papermill": {
     "duration": 0.01571,
     "end_time": "2024-05-02T04:24:17.569344",
     "exception": false,
     "start_time": "2024-05-02T04:24:17.553634",
     "status": "completed"
    },
    "tags": []
   },
   "outputs": [],
   "source": [
    "def plot(frame_idx, rewards, losses, game, game_data):\n",
    "    clear_output(True)\n",
    "    plt.figure(figsize=(20,5))\n",
    "    plt.subplot(131)\n",
    "    plt.title('frame %s. reward: %s' % (frame_idx, np.mean(rewards[-10:])))\n",
    "    plt.plot(rewards)\n",
    "    plt.subplot(132)\n",
    "    plt.title('loss')\n",
    "    plt.plot(losses)\n",
    "    plt.subplot(133)\n",
    "    plt.title(f'ep: {game_data[1]} max step: {game_data[2]}')\n",
    "    plt.imshow(game)\n",
    "    plt.show()"
   ]
  },
  {
   "cell_type": "code",
   "execution_count": 14,
   "id": "ebf966cd",
   "metadata": {
    "execution": {
     "iopub.execute_input": "2024-05-02T04:24:17.583391Z",
     "iopub.status.busy": "2024-05-02T04:24:17.583105Z",
     "iopub.status.idle": "2024-05-02T12:16:29.524899Z",
     "shell.execute_reply": "2024-05-02T12:16:29.523890Z"
    },
    "papermill": {
     "duration": 28331.953998,
     "end_time": "2024-05-02T12:16:29.529837",
     "exception": false,
     "start_time": "2024-05-02T04:24:17.575839",
     "status": "completed"
    },
    "tags": []
   },
   "outputs": [
    {
     "data": {
      "image/png": "[encoded data removed]",
      "text/plain": [
       "<Figure size 2000x500 with 3 Axes>"
      ]
     },
     "metadata": {},
     "output_type": "display_data"
    },
    {
     "name": "stderr",
     "output_type": "stream",
     "text": [
      "100%|██████████| 1400000/1400000 [7:52:11<00:00, 49.41it/s]\n"
     ]
    }
   ],
   "source": [
    "num_frames = 1400000\n",
    "batch_size = 32\n",
    "gamma      = 0.99\n",
    "position_shape = 6\n",
    "\n",
    "losses = []\n",
    "all_rewards = []\n",
    "episode_reward = 0\n",
    "step = 0\n",
    "ep = 0\n",
    "max_steps = 0\n",
    "\n",
    "state, _ = env.reset()\n",
    "for frame_idx in tqdm(range(1, num_frames + 1)):\n",
    "    \n",
    "    epsilon = _epsilon(frame_idx)\n",
    "    action = model.act(state, epsilon)\n",
    "    \n",
    "    next_state, reward, done, _, _ = env.step(action)\n",
    "    replay_buffer.store(state, action, reward, next_state, float(done))\n",
    "    \n",
    "    state = next_state\n",
    "    episode_reward += reward\n",
    "    step += 1\n",
    "    \n",
    "    if done:\n",
    "        state, _ = env.reset()\n",
    "        all_rewards.append(episode_reward)\n",
    "        episode_reward = 0\n",
    "        max_steps = max(step, max_steps)\n",
    "        step = 0\n",
    "        ep += 1\n",
    "        gc.collect()\n",
    "        \n",
    "    if len(replay_buffer) > replay_initial:\n",
    "        loss = compute_td_loss(batch_size, device)\n",
    "        losses.append(loss)\n",
    "      \n",
    "    if frame_idx % 10000 == 0:\n",
    "        rgb_array = env.render()\n",
    "        plot(frame_idx, all_rewards, losses, rgb_array, (step, ep, max_steps))"
   ]
  },
  {
   "cell_type": "code",
   "execution_count": 15,
   "id": "1b4e689f",
   "metadata": {
    "execution": {
     "iopub.execute_input": "2024-05-02T12:16:29.549375Z",
     "iopub.status.busy": "2024-05-02T12:16:29.548686Z",
     "iopub.status.idle": "2024-05-02T12:16:29.554980Z",
     "shell.execute_reply": "2024-05-02T12:16:29.553909Z"
    },
    "papermill": {
     "duration": 0.018339,
     "end_time": "2024-05-02T12:16:29.557186",
     "exception": false,
     "start_time": "2024-05-02T12:16:29.538847",
     "status": "completed"
    },
    "tags": []
   },
   "outputs": [
    {
     "name": "stdout",
     "output_type": "stream",
     "text": [
      "First episode above 20: 405\n",
      "Max reward 21.0\n"
     ]
    }
   ],
   "source": [
    "for i, r in enumerate(all_rewards):\n",
    "    if r >= 20:\n",
    "        print(\"First episode above 20: \" + str(i))\n",
    "        break\n",
    "print(\"Max reward\", str(max(all_rewards)))"
   ]
  },
  {
   "cell_type": "code",
   "execution_count": 16,
   "id": "b08aac7e",
   "metadata": {
    "execution": {
     "iopub.execute_input": "2024-05-02T12:16:29.575992Z",
     "iopub.status.busy": "2024-05-02T12:16:29.575593Z",
     "iopub.status.idle": "2024-05-02T12:16:29.608526Z",
     "shell.execute_reply": "2024-05-02T12:16:29.607528Z"
    },
    "papermill": {
     "duration": 0.04448,
     "end_time": "2024-05-02T12:16:29.610632",
     "exception": false,
     "start_time": "2024-05-02T12:16:29.566152",
     "status": "completed"
    },
    "tags": []
   },
   "outputs": [
    {
     "name": "stdout",
     "output_type": "stream",
     "text": [
      "First episode above 0: 338\n",
      "Max mean-10 reward: episode 672: 20.0\n",
      "Max mean-40 reward: episode 685: 19.125\n"
     ]
    }
   ],
   "source": [
    "for i, r in enumerate(all_rewards):\n",
    "    if r > 0:\n",
    "        print(\"First episode above 0: \" + str(i))\n",
    "        break\n",
    "        \n",
    "max_mean10, max_mean40 = -21, -21\n",
    "mean10_e, mean40_e = -1, -1\n",
    "for i in range(10, len(all_rewards)):\n",
    "    last_10_reward = np.mean(all_rewards[i-10:i])\n",
    "    if last_10_reward > max_mean10:\n",
    "        mean10_e = i\n",
    "        max_mean10 = last_10_reward\n",
    "    if i >= 40:\n",
    "        last_40_reward = np.mean(all_rewards[i-40:i])\n",
    "        if last_40_reward > max_mean40:\n",
    "            mean40_e = i\n",
    "            max_mean40 = last_40_reward\n",
    "        \n",
    "    \n",
    "print(\"Max mean-10 reward: \" + \"episode \" + str(mean10_e) + \": \" + str(max_mean10))\n",
    "print(\"Max mean-40 reward: \" + \"episode \" + str(mean40_e) + \": \" + str(max_mean40))"
   ]
  },
  {
   "cell_type": "code",
   "execution_count": 17,
   "id": "e6e871bd",
   "metadata": {
    "execution": {
     "iopub.execute_input": "2024-05-02T12:16:29.629174Z",
     "iopub.status.busy": "2024-05-02T12:16:29.628551Z",
     "iopub.status.idle": "2024-05-02T12:16:30.219126Z",
     "shell.execute_reply": "2024-05-02T12:16:30.217816Z"
    },
    "papermill": {
     "duration": 0.60148,
     "end_time": "2024-05-02T12:16:30.220813",
     "exception": true,
     "start_time": "2024-05-02T12:16:29.619333",
     "status": "failed"
    },
    "tags": []
   },
   "outputs": [
    {
     "name": "stderr",
     "output_type": "stream",
     "text": [
      "  0%|          | 0/1000 [00:00<?, ?it/s]\n"
     ]
    },
    {
     "ename": "TypeError",
     "evalue": "CnnDQN.act() takes 3 positional arguments but 4 were given",
     "output_type": "error",
     "traceback": [
      "\u001b[0;31m---------------------------------------------------------------------------\u001b[0m",
      "\u001b[0;31mTypeError\u001b[0m                                 Traceback (most recent call last)",
      "Cell \u001b[0;32mIn[17], line 26\u001b[0m\n\u001b[1;32m     24\u001b[0m \u001b[38;5;28;01mif\u001b[39;00m t \u001b[38;5;241m!=\u001b[39m \u001b[38;5;241m0\u001b[39m:\n\u001b[1;32m     25\u001b[0m     pos[action] \u001b[38;5;241m=\u001b[39m \u001b[38;5;241m1\u001b[39m\n\u001b[0;32m---> 26\u001b[0m action \u001b[38;5;241m=\u001b[39m \u001b[43mmodel\u001b[49m\u001b[38;5;241;43m.\u001b[39;49m\u001b[43mact\u001b[49m\u001b[43m(\u001b[49m\u001b[43mstate\u001b[49m\u001b[43m,\u001b[49m\u001b[43m \u001b[49m\u001b[43mepsilon\u001b[49m\u001b[43m,\u001b[49m\u001b[43m \u001b[49m\u001b[43mpos\u001b[49m\u001b[43m)\u001b[49m\n\u001b[1;32m     27\u001b[0m state, _, done, _, _ \u001b[38;5;241m=\u001b[39m env\u001b[38;5;241m.\u001b[39mstep(action)\n\u001b[1;32m     28\u001b[0m \u001b[38;5;28;01mif\u001b[39;00m done:\n",
      "\u001b[0;31mTypeError\u001b[0m: CnnDQN.act() takes 3 positional arguments but 4 were given"
     ]
    }
   ],
   "source": [
    "def save_frames_as_gif(frames, path='./', filename='gym_animation.gif'):\n",
    "\n",
    "    #Mess with this to change frame size\n",
    "    plt.figure(figsize=(frames[0].shape[1] / 72.0, frames[0].shape[0] / 72.0), dpi=72)\n",
    "\n",
    "    patch = plt.imshow(frames[0])\n",
    "    plt.axis('off')\n",
    "\n",
    "    def animate(i):\n",
    "        patch.set_data(frames[i])\n",
    "\n",
    "    anim = animation.FuncAnimation(plt.gcf(), animate, frames = len(frames), interval=10)\n",
    "\n",
    "    anim.save(path + filename, writer='imagemagick', fps=6)\n",
    "    \n",
    "    \n",
    "state, _ = env.reset()\n",
    "action = 0\n",
    "frames = []\n",
    "for t in tqdm(range(1000)):\n",
    "    #Render to frames buffer\n",
    "    frames.append(env.render())\n",
    "    pos = np.zeros(position_shape)\n",
    "    if t != 0:\n",
    "        pos[action] = 1\n",
    "    action = model.act(state, epsilon, pos)\n",
    "    state, _, done, _, _ = env.step(action)\n",
    "    if done:\n",
    "        break\n",
    "\n",
    "save_frames_as_gif(frames)\n",
    "clear_output(wait=True)"
   ]
  },
  {
   "cell_type": "code",
   "execution_count": null,
   "id": "bc536c42",
   "metadata": {
    "execution": {
     "iopub.status.busy": "2024-05-02T04:22:26.706901Z",
     "iopub.status.idle": "2024-05-02T04:22:26.707277Z",
     "shell.execute_reply": "2024-05-02T04:22:26.707118Z",
     "shell.execute_reply.started": "2024-05-02T04:22:26.707103Z"
    },
    "papermill": {
     "duration": null,
     "end_time": null,
     "exception": null,
     "start_time": null,
     "status": "pending"
    },
    "tags": []
   },
   "outputs": [],
   "source": [
    "gif_file = './gym_animation.gif'\n",
    "file = open(gif_file, \"rb\")\n",
    "image = file.read()\n",
    "widgets.Image(\n",
    "    value=image,\n",
    "    format='png',\n",
    "    width=300,\n",
    "    height=400,\n",
    ")"
   ]
  },
  {
   "cell_type": "code",
   "execution_count": null,
   "id": "ec72e05e",
   "metadata": {
    "execution": {
     "iopub.status.busy": "2024-05-02T04:22:26.709048Z",
     "iopub.status.idle": "2024-05-02T04:22:26.709468Z",
     "shell.execute_reply": "2024-05-02T04:22:26.709245Z",
     "shell.execute_reply.started": "2024-05-02T04:22:26.709230Z"
    },
    "papermill": {
     "duration": null,
     "end_time": null,
     "exception": null,
     "start_time": null,
     "status": "pending"
    },
    "tags": []
   },
   "outputs": [],
   "source": [
    "torch.save(model, 'pingpong_dqn.pth')"
   ]
  }
 ],
 "metadata": {
  "kaggle": {
   "accelerator": "gpu",
   "dataSources": [
    {
     "datasetId": 4893630,
     "sourceId": 8248031,
     "sourceType": "datasetVersion"
    },
    {
     "datasetId": 4894238,
     "sourceId": 8248866,
     "sourceType": "datasetVersion"
    },
    {
     "datasetId": 4848540,
     "sourceId": 8188615,
     "sourceType": "datasetVersion"
    },
    {
     "sourceId": 105585063,
     "sourceType": "kernelVersion"
    }
   ],
   "dockerImageVersionId": 30699,
   "isGpuEnabled": true,
   "isInternetEnabled": true,
   "language": "python",
   "sourceType": "notebook"
  },
  "kernelspec": {
   "display_name": "Python 3",
   "language": "python",
   "name": "python3"
  },
  "language_info": {
   "codemirror_mode": {
    "name": "ipython",
    "version": 3
   },
   "file_extension": ".py",
   "mimetype": "text/x-python",
   "name": "python",
   "nbconvert_exporter": "python",
   "pygments_lexer": "ipython3",
   "version": "3.10.13"
  },
  "papermill": {
   "default_parameters": {},
   "duration": 28381.11476,
   "end_time": "2024-05-02T12:16:33.588184",
   "environment_variables": {},
   "exception": true,
   "input_path": "__notebook__.ipynb",
   "output_path": "__notebook__.ipynb",
   "parameters": {},
   "start_time": "2024-05-02T04:23:32.473424",
   "version": "2.5.0"
  }
 },
 "nbformat": 4,
 "nbformat_minor": 5
}
